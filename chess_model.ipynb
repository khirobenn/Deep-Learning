{
 "cells": [
  {
   "cell_type": "code",
   "execution_count": null,
   "metadata": {},
   "outputs": [],
   "source": [
    "import numpy as np\n",
    "import matplotlib.pyplot as plt\n",
    "import os\n",
    "import cv2\n",
    "\n"
   ]
  },
  {
   "cell_type": "code",
   "execution_count": null,
   "metadata": {},
   "outputs": [],
   "source": [
    "def create_data():\n",
    "    DATADIR = \"pictures/\"\n",
    "    CATEGORIES = [\"Bishop\", \"Knight\", \"Pawn\", \"Queen\", \"Rook\"]\n",
    "    training_data = []\n",
    "    for category in CATEGORIES:\n",
    "        path = DATADIR + category\n",
    "        category_index = CATEGORIES.index(category)\n",
    "        print(path)\n",
    "        for img in os.listdir(path):\n",
    "            img_array = cv2.imread(path + '/' + img, cv2.IMREAD_GRAYSCALE)\n",
    "            plt.imshow(img_array, cmap=\"gray\")\n",
    "            plt.show()\n",
    "            training_data.append([img_array, category_index])\n",
    "    return training_data"
   ]
  }
 ],
 "metadata": {
  "kernelspec": {
   "display_name": "env",
   "language": "python",
   "name": "python3"
  },
  "language_info": {
   "codemirror_mode": {
    "name": "ipython",
    "version": 3
   },
   "file_extension": ".py",
   "mimetype": "text/x-python",
   "name": "python",
   "nbconvert_exporter": "python",
   "pygments_lexer": "ipython3",
   "version": "3.12.4"
  }
 },
 "nbformat": 4,
 "nbformat_minor": 2
}
